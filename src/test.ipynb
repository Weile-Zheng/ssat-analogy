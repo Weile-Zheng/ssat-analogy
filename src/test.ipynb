{
 "cells": [
  {
   "cell_type": "code",
   "execution_count": 1,
   "metadata": {},
   "outputs": [],
   "source": [
    "from scraper.Scraper import Scraper\n",
    "from scraper.Question import typeA\n",
    "from gensim.models import KeyedVectors\n",
    "from numpy import dot\n",
    "from numpy.linalg import norm"
   ]
  },
  {
   "cell_type": "code",
   "execution_count": 24,
   "metadata": {},
   "outputs": [
    {
     "name": "stdout",
     "output_type": "stream",
     "text": [
      "The highest difference vector similarity score is: 0.5101716\n",
      "Which coorespond to answer choice: Marriage\n",
      "The right answer is Marriage\n",
      "Our solver correctly solved the problem\n"
     ]
    }
   ],
   "source": [
    "from scraper.Scraper import Scraper\n",
    "from scraper.Question import typeA\n",
    "from gensim.models import KeyedVectors\n",
    "from numpy import dot\n",
    "from numpy.linalg import norm\n",
    "\n",
    "converted_file = '/Users/weilezheng/CompSci/ML/solver_ssat/src/glove.6B.100d.word2vec.txt\"'\n",
    "model = KeyedVectors.load_word2vec_format(converted_file)\n",
    "list=[\"Blasphemy\", \"religion\", \"adultery\",\"Professionalism\",  \"Marriage\", \"PlaceHolder\", \"Divinity\", \"Friendship\", \"Marriage\"]\n",
    "questionVector=[]\n",
    "\n",
    "#Convert word in lists to vectors and add into questionVector\n",
    "for word in list:\n",
    "    word=word.lower()\n",
    "    vector = model[word]\n",
    "    questionVector.append(vector)\n",
    "\n",
    "#Word A,B are first analogy, word C are one of the word for the answer analogy.\n",
    "wordA=questionVector[0]\n",
    "wordB=questionVector[1]\n",
    "wordC=questionVector[2]\n",
    "\n",
    "#Difference vector is the vector we are trying to match.\n",
    "differenceVector=wordA-wordB\n",
    "\n",
    "#Find all difference vector between word C, and 3,4,5,6,7 (The answer choices)\n",
    "differenceVectorChoices=[]\n",
    "for i in range(3,8):\n",
    "    differenceVectorChoices.append(wordC-questionVector[i])\n",
    "\n",
    "#Find the similarity between differnceVectorChoices to our differenceVector\n",
    "choiceScores=[]\n",
    "for i in differenceVectorChoices:\n",
    "    cos_sim = dot(differenceVector, i)/(norm(differenceVector)*norm(i))\n",
    "    choiceScores.append(cos_sim)\n",
    "\n",
    "#Find the highest score, and the its index. \n",
    "max=-1\n",
    "maxIndex=-1\n",
    "for i in range(5):\n",
    "    if choiceScores[i]>max:\n",
    "        max=choiceScores[i]\n",
    "        maxIndex=i;\n",
    "\"\"\"\n",
    "Note that maxIndex is the highest score in choiceScores, which match to one of the five choices\n",
    "from word 3 to 7 inclusive, add 3 to max index to skip the first three words of the wordlist,\n",
    "which are wordA, wordB, and wordC for our question prompt. \n",
    "\"\"\"\n",
    "ourResultAnswer=list[maxIndex+3]\n",
    "print(\"The highest difference vector similarity score is: \"+ str(max))\n",
    "print(\"Which coorespond to answer choice: \" + ourResultAnswer)\n",
    "print(f'The right answer is {list[-1]}')\n",
    "if(ourResultAnswer == list[-1]):\n",
    "    print(\"Our solver correctly solved the problem\")\n",
    "else:\n",
    "    print(\"Our solver incorrectly solved the problem\")\n",
    "\n",
    "\n",
    "\n",
    "\n",
    "\n"
   ]
  },
  {
   "cell_type": "code",
   "execution_count": 29,
   "metadata": {},
   "outputs": [
    {
     "name": "stdout",
     "output_type": "stream",
     "text": [
      "The highest difference vector similarity score is: 0.22214733\n",
      "Which coorespond to answer choice: fog\n",
      "The right answer is fog\n",
      "Our solver correctly solved the problem\n"
     ]
    }
   ],
   "source": [
    "from scraper.Scraper import Scraper\n",
    "from scraper.Question import typeA\n",
    "from gensim.models import KeyedVectors\n",
    "from numpy import dot\n",
    "from numpy.linalg import norm\n",
    "\n",
    "converted_file = '/Users/weilezheng/CompSci/ML/solver_ssat/src/glove.6B.100d.word2vec.txt\"'\n",
    "model = KeyedVectors.load_word2vec_format(converted_file)\n",
    "list=[\"flake\", \"snow\", \"cloud\",\"hay\", \"fog\", \"wheat\", \"rain\", \"hail\", \"fog\"]\n",
    "questionVector=[]\n",
    "\n",
    "#Convert word in lists to vectors and add into questionVector\n",
    "for word in list:\n",
    "    word=word.lower()\n",
    "    vector = model[word]\n",
    "    questionVector.append(vector)\n",
    "\n",
    "#Word A,B are first analogy, word C are one of the word for the answer analogy.\n",
    "wordA=questionVector[0]\n",
    "wordB=questionVector[1]\n",
    "wordC=questionVector[2]\n",
    "\n",
    "#Difference vector is the vector we are trying to match.\n",
    "differenceVector=wordA-wordB\n",
    "\n",
    "#Find all difference vector between word C, and 3,4,5,6,7 (The answer choices)\n",
    "differenceVectorChoices=[]\n",
    "for i in range(3,8):\n",
    "    differenceVectorChoices.append(wordC-questionVector[i])\n",
    "\n",
    "#Find the similarity between differnceVectorChoices to our differenceVector\n",
    "choiceScores=[]\n",
    "for i in differenceVectorChoices:\n",
    "    cos_sim = dot(differenceVector, i)/(norm(differenceVector)*norm(i))\n",
    "    choiceScores.append(cos_sim)\n",
    "\n",
    "#Find the highest score, and the its index. \n",
    "max=-1\n",
    "maxIndex=-1\n",
    "for i in range(5):\n",
    "    if choiceScores[i]>max:\n",
    "        max=choiceScores[i]\n",
    "        maxIndex=i;\n",
    "\"\"\"\n",
    "Note that maxIndex is the highest score in choiceScores, which match to one of the five choices\n",
    "from word 3 to 7 inclusive, add 3 to max index to skip the first three words of the wordlist,\n",
    "which are wordA, wordB, and wordC for our question prompt. \n",
    "\"\"\"\n",
    "ourResultAnswer=list[maxIndex+3]\n",
    "print(\"The highest difference vector similarity score is: \"+ str(max))\n",
    "print(\"Which coorespond to answer choice: \" + ourResultAnswer)\n",
    "print(f'The right answer is {list[-1]}')\n",
    "if(ourResultAnswer == list[-1]):\n",
    "    print(\"Our solver correctly solved the problem\")\n",
    "else:\n",
    "    print(\"Our solver incorrectly solved the problem\")\n",
    "\n",
    "\n",
    "\n",
    "\n",
    "\n"
   ]
  },
  {
   "cell_type": "code",
   "execution_count": 39,
   "metadata": {},
   "outputs": [
    {
     "name": "stdout",
     "output_type": "stream",
     "text": [
      "[ True  True  True  True  True  True  True  True  True  True  True  True\n",
      "  True  True  True  True  True  True  True  True  True  True  True  True\n",
      "  True  True  True  True  True  True  True  True  True  True  True  True\n",
      "  True  True  True  True  True  True  True  True  True  True  True  True\n",
      "  True  True  True  True  True  True  True  True  True  True  True  True\n",
      "  True  True  True  True  True  True  True  True  True  True  True  True\n",
      "  True  True  True  True  True  True  True  True  True  True  True  True\n",
      "  True  True  True  True  True  True  True  True  True  True  True  True\n",
      "  True  True  True  True]\n"
     ]
    }
   ],
   "source": [
    "converted_file = '/Users/weilezheng/CompSci/ML/solver_ssat/src/glove.6B.100d.word2vec.txt'\n",
    "model = KeyedVectors.load_word2vec_format(converted_file)\n",
    "kingv= model[\"king\"]\n",
    "manv=model[\"man\"]\n",
    "\n",
    "print((kingv-manv)+(manv-kingv)==0)"
   ]
  },
  {
   "cell_type": "code",
   "execution_count": 47,
   "metadata": {},
   "outputs": [
    {
     "name": "stdout",
     "output_type": "stream",
     "text": [
      "8.129182\n",
      "8.423257\n"
     ]
    },
    {
     "data": {
      "text/plain": [
       "[('king', 0.8551837205886841),\n",
       " ('queen', 0.7834413647651672),\n",
       " ('monarch', 0.6933802366256714),\n",
       " ('throne', 0.6833109259605408),\n",
       " ('daughter', 0.680908203125),\n",
       " ('prince', 0.6713142991065979),\n",
       " ('princess', 0.664408266544342),\n",
       " ('mother', 0.6579325199127197),\n",
       " ('elizabeth', 0.6563301086425781),\n",
       " ('father', 0.6392418742179871)]"
      ]
     },
     "execution_count": 47,
     "metadata": {},
     "output_type": "execute_result"
    }
   ],
   "source": [
    "converted_file = '/Users/weilezheng/CompSci/ML/solver_ssat/src/glove.6B.100d.word2vec.txt'\n",
    "model = KeyedVectors.load_word2vec_format(converted_file)\n",
    "citizenv= model[\"citizen\"]\n",
    "nationv=model[\"nation\"]\n",
    "branchv=model[\"branch\"]\n",
    "offshootv=model[\"offshoot\"]\n",
    "treev=model[\"tree\"]\n",
    "\n",
    "q=citizenv-nationv\n",
    "a1=branchv-offshootv\n",
    "a2=branchv-treev\n",
    "\n",
    "\n",
    "print(norm(a1-q))\n",
    "print(norm(a2-q))\n",
    "\n",
    "model.most_similar(model[\"king\"]-model[\"man\"]+model[\"woman\"])"
   ]
  },
  {
   "cell_type": "code",
   "execution_count": 6,
   "metadata": {},
   "outputs": [
    {
     "name": "stdout",
     "output_type": "stream",
     "text": [
      "8.423256\n",
      "8.129182\n",
      "8.423256\n",
      "8.129182\n"
     ]
    }
   ],
   "source": [
    "converted_file = '/Users/weilezheng/CompSci/ML/solver_ssat/src/glove.6B.100d.word2vec.txt'\n",
    "model = KeyedVectors.load_word2vec_format(converted_file)\n",
    "citizenv= model[\"citizen\"]\n",
    "nationv=model[\"nation\"]\n",
    "branchv=model[\"branch\"]\n",
    "\n",
    "offshootv=model[\"offshoot\"]\n",
    "treev=model[\"tree\"]\n",
    "\n",
    "final=citizenv-nationv+treev\n",
    "final2=citizenv-nationv+offshootv\n",
    "\n",
    "print(norm(final-branchv))\n",
    "print(norm(final2-branchv))\n",
    "\n",
    "final=nationv-citizenv+branchv\n",
    "print(norm(final-treev))\n",
    "print(norm(final-offshootv))\n"
   ]
  }
 ],
 "metadata": {
  "interpreter": {
   "hash": "aee8b7b246df8f9039afb4144a1f6fd8d2ca17a180786b69acc140d282b71a49"
  },
  "kernelspec": {
   "display_name": "Python 3.10.1 64-bit",
   "language": "python",
   "name": "python3"
  },
  "language_info": {
   "codemirror_mode": {
    "name": "ipython",
    "version": 3
   },
   "file_extension": ".py",
   "mimetype": "text/x-python",
   "name": "python",
   "nbconvert_exporter": "python",
   "pygments_lexer": "ipython3",
   "version": "3.10.1"
  },
  "orig_nbformat": 4
 },
 "nbformat": 4,
 "nbformat_minor": 2
}
